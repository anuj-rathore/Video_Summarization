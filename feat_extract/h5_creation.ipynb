{
 "cells": [
  {
   "cell_type": "code",
   "execution_count": 1,
   "metadata": {},
   "outputs": [
    {
     "name": "stderr",
     "output_type": "stream",
     "text": [
      "/home/anuj.rathore/.local/lib/python2.7/site-packages/h5py/__init__.py:36: FutureWarning: Conversion of the second argument of issubdtype from `float` to `np.floating` is deprecated. In future, it will be treated as `np.float64 == np.dtype(float).type`.\n",
      "  from ._conv import register_converters as _register_converters\n"
     ]
    }
   ],
   "source": [
    "import h5py\n",
    "h5_file_name = 'blah.h5'\n",
    "f = h5py.File(h5_file_name, 'w')\n",
    "video_names = ['video1', 'video2','video3','video4']\n",
    "# video_names is a list of strings containing the \n",
    "# name of a video, e.g. 'video_1', 'video_2'\n",
    "for name in video_names:\n",
    "    f.create_dataset(name + '/features', (10000000,4))\n",
    "#     f.create_dataset(name + '/gtscore', data=data_of_name)\n",
    "#     f.create_dataset(name + '/user_summary', data=data_of_name)\n",
    "#     f.create_dataset(name + '/change_points', data=data_of_name)\n",
    "#     f.create_dataset(name + '/n_frame_per_seg', data=data_of_name)\n",
    "#     f.create_dataset(name + '/n_frames', data=data_of_name)\n",
    "#     f.create_dataset(name + '/picks', data=data_of_name)\n",
    "#     f.create_dataset(name + '/n_steps', data=data_of_name)\n",
    "#     f.create_dataset(name + '/gtsummary', data=data_of_name)\n",
    "#     f.create_dataset(name + '/video_name', data=data_of_name)\n",
    "f['video1']['features'][1] = [1,2,3,4]\n",
    "f['video2']['features'][2] = [1,2,3,4]\n",
    "f['video1']['features'][3] = [1,2,3,4]\n",
    "f['video2']['features'][4] = [1,2,3,4]\n",
    "f['video1']['features'][5] = [1,2,3,4]\n",
    "f['video1']['features'][6] = [1,2,3,4]\n",
    "\n",
    "f['video2']['features'][12] = [1,2,3,4]\n",
    "f['video2']['features'][22] = [1,2,3,4]\n",
    "f['video2']['features'][32] = [1,2,3,4]\n",
    "f['video1']['features'][42] = [1,2,3,4]\n",
    "f['video1']['features'][52] = [1,2,3,4]\n",
    "f['video1']['features'][62] = [1,2,3,4]\n",
    "f['video1']['features'][12] = [1,2,3,4]\n",
    "f['video1']['features'][22] = [1,2,3,4]\n",
    "f['video1']['features'][32] = [1,2,3,4]\n",
    "f['video1']['features'][42] = [1,2,3,4]\n",
    "f['video1']['features'][52] = [1,2,3,4]\n",
    "f['video1']['features'][62] = [1,2,3,4]\n",
    "\n",
    "f['video1']['features'][13] = [1,2,3,4]\n",
    "f['video1']['features'][23] = [1,2,3,4]\n",
    "f['video1']['features'][33] = [1,2,3,4]\n",
    "f['video1']['features'][43] = [1,2,3,4]\n",
    "f['video1']['features'][53] = [1,2,3,4]\n",
    "f['video1']['features'][63] = [1,2,3,4]\n",
    "# f['video1']['features'][1] = 2\n",
    "\n",
    "f.close()"
   ]
  },
  {
   "cell_type": "code",
   "execution_count": 2,
   "metadata": {},
   "outputs": [],
   "source": [
    "import os"
   ]
  },
  {
   "cell_type": "code",
   "execution_count": 3,
   "metadata": {},
   "outputs": [],
   "source": [
    "dataset = h5py.File('./blah.h5', 'r')"
   ]
  },
  {
   "cell_type": "code",
   "execution_count": 5,
   "metadata": {},
   "outputs": [
    {
     "data": {
      "text/plain": [
       "array([[0., 0., 0., 0.],\n",
       "       [0., 0., 0., 0.],\n",
       "       [1., 2., 3., 4.],\n",
       "       [0., 0., 0., 0.],\n",
       "       [1., 2., 3., 4.],\n",
       "       [0., 0., 0., 0.],\n",
       "       [0., 0., 0., 0.],\n",
       "       [0., 0., 0., 0.],\n",
       "       [0., 0., 0., 0.],\n",
       "       [0., 0., 0., 0.],\n",
       "       [0., 0., 0., 0.],\n",
       "       [0., 0., 0., 0.],\n",
       "       [1., 2., 3., 4.],\n",
       "       [0., 0., 0., 0.],\n",
       "       [0., 0., 0., 0.],\n",
       "       [0., 0., 0., 0.],\n",
       "       [0., 0., 0., 0.],\n",
       "       [0., 0., 0., 0.],\n",
       "       [0., 0., 0., 0.],\n",
       "       [0., 0., 0., 0.],\n",
       "       [0., 0., 0., 0.],\n",
       "       [0., 0., 0., 0.],\n",
       "       [1., 2., 3., 4.],\n",
       "       [0., 0., 0., 0.],\n",
       "       [0., 0., 0., 0.],\n",
       "       [0., 0., 0., 0.],\n",
       "       [0., 0., 0., 0.],\n",
       "       [0., 0., 0., 0.],\n",
       "       [0., 0., 0., 0.],\n",
       "       [0., 0., 0., 0.],\n",
       "       [0., 0., 0., 0.],\n",
       "       [0., 0., 0., 0.],\n",
       "       [1., 2., 3., 4.],\n",
       "       [0., 0., 0., 0.],\n",
       "       [0., 0., 0., 0.],\n",
       "       [0., 0., 0., 0.],\n",
       "       [0., 0., 0., 0.],\n",
       "       [0., 0., 0., 0.],\n",
       "       [0., 0., 0., 0.],\n",
       "       [0., 0., 0., 0.],\n",
       "       [0., 0., 0., 0.],\n",
       "       [0., 0., 0., 0.],\n",
       "       [0., 0., 0., 0.],\n",
       "       [0., 0., 0., 0.],\n",
       "       [0., 0., 0., 0.],\n",
       "       [0., 0., 0., 0.],\n",
       "       [0., 0., 0., 0.],\n",
       "       [0., 0., 0., 0.],\n",
       "       [0., 0., 0., 0.],\n",
       "       [0., 0., 0., 0.],\n",
       "       [0., 0., 0., 0.],\n",
       "       [0., 0., 0., 0.],\n",
       "       [0., 0., 0., 0.],\n",
       "       [0., 0., 0., 0.],\n",
       "       [0., 0., 0., 0.],\n",
       "       [0., 0., 0., 0.],\n",
       "       [0., 0., 0., 0.],\n",
       "       [0., 0., 0., 0.],\n",
       "       [0., 0., 0., 0.],\n",
       "       [0., 0., 0., 0.],\n",
       "       [0., 0., 0., 0.],\n",
       "       [0., 0., 0., 0.],\n",
       "       [0., 0., 0., 0.],\n",
       "       [0., 0., 0., 0.],\n",
       "       [0., 0., 0., 0.],\n",
       "       [0., 0., 0., 0.],\n",
       "       [0., 0., 0., 0.],\n",
       "       [0., 0., 0., 0.],\n",
       "       [0., 0., 0., 0.],\n",
       "       [0., 0., 0., 0.],\n",
       "       [0., 0., 0., 0.],\n",
       "       [0., 0., 0., 0.],\n",
       "       [0., 0., 0., 0.],\n",
       "       [0., 0., 0., 0.],\n",
       "       [0., 0., 0., 0.],\n",
       "       [0., 0., 0., 0.],\n",
       "       [0., 0., 0., 0.],\n",
       "       [0., 0., 0., 0.],\n",
       "       [0., 0., 0., 0.],\n",
       "       [0., 0., 0., 0.]], dtype=float32)"
      ]
     },
     "execution_count": 5,
     "metadata": {},
     "output_type": "execute_result"
    }
   ],
   "source": [
    "dataset['video2']['features'][0:80]"
   ]
  },
  {
   "cell_type": "code",
   "execution_count": 81,
   "metadata": {},
   "outputs": [],
   "source": [
    "dataset.close()"
   ]
  },
  {
   "cell_type": "code",
   "execution_count": 82,
   "metadata": {},
   "outputs": [
    {
     "data": {
      "text/plain": [
       "0"
      ]
     },
     "execution_count": 82,
     "metadata": {},
     "output_type": "execute_result"
    }
   ],
   "source": [
    "os.system(\"rm -rf ./blah.h5\")\n"
   ]
  },
  {
   "cell_type": "code",
   "execution_count": null,
   "metadata": {},
   "outputs": [],
   "source": []
  }
 ],
 "metadata": {
  "kernelspec": {
   "display_name": "Python 2",
   "language": "python",
   "name": "python2"
  },
  "language_info": {
   "codemirror_mode": {
    "name": "ipython",
    "version": 2
   },
   "file_extension": ".py",
   "mimetype": "text/x-python",
   "name": "python",
   "nbconvert_exporter": "python",
   "pygments_lexer": "ipython2",
   "version": "2.7.14"
  }
 },
 "nbformat": 4,
 "nbformat_minor": 2
}
