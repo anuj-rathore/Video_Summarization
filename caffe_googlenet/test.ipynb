{
 "cells": [
  {
   "cell_type": "code",
   "execution_count": 1,
   "metadata": {},
   "outputs": [],
   "source": [
    "import numpy as np\n",
    "import pickle\n",
    "import os\n",
    "import cv2\n",
    "import matplotlib.pyplot as plt\n",
    "import caffe"
   ]
  },
  {
   "cell_type": "code",
   "execution_count": 2,
   "metadata": {},
   "outputs": [],
   "source": [
    "gpu_id = 0\n",
    "\n",
    "extract_from_layer = \"pool5/7x7_s1\"\n",
    "input_images_file = \"./image_paths/\"\n",
    "model_def= \"./deploy.prototxt\"\n",
    "pretrained_model=\"./bvlc_googlenet.caffemodel\"\n",
    "\n",
    "# output file to write extracted features to disk\n",
    "output_pkl_file_name = \"./feat_cat.pkl\"\n",
    "\n",
    "# change based on your deploy.prototxt file\n",
    "batch_size = 1"
   ]
  },
  {
   "cell_type": "code",
   "execution_count": 3,
   "metadata": {},
   "outputs": [],
   "source": [
    "# python\n",
    "\n",
    "# set gpu mode \n",
    "caffe.set_mode_gpu()\n",
    "caffe.set_device(gpu_id)"
   ]
  },
  {
   "cell_type": "code",
   "execution_count": 4,
   "metadata": {},
   "outputs": [],
   "source": [
    "net = caffe.Net(model_def, pretrained_model, caffe.TEST)"
   ]
  },
  {
   "cell_type": "code",
   "execution_count": 14,
   "metadata": {},
   "outputs": [],
   "source": [
    "image = cv2.imread('./image_paths/dog.jpg')\n",
    "img =  cv2.resize(image, (224, 224)) \n",
    "# print image.shape\n",
    "img = np.array(img,dtype=float)\n",
    "features = np.zeros(1024,)\n",
    "img[:,:,[0,1,2]] = img[:, :, [2, 1, 0]] # swap channels\n",
    "img = img.transpose((2, 0, 1)) # re-order dimensions\n",
    "\n",
    "net.blobs['data'].reshape(1,3,224,224)\n",
    "net.blobs['data'].data[...] = img\n",
    "\n",
    "res = net.forward()"
   ]
  },
  {
   "cell_type": "code",
   "execution_count": 15,
   "metadata": {},
   "outputs": [
    {
     "name": "stdout",
     "output_type": "stream",
     "text": [
      "216\n"
     ]
    }
   ],
   "source": [
    "#predicted predicted class\n",
    "print res['prob'].argmax()\n",
    "\n",
    "#print predicted labels"
   ]
  },
  {
   "cell_type": "code",
   "execution_count": null,
   "metadata": {},
   "outputs": [],
   "source": []
  }
 ],
 "metadata": {
  "kernelspec": {
   "display_name": "Python 2",
   "language": "python",
   "name": "python2"
  },
  "language_info": {
   "codemirror_mode": {
    "name": "ipython",
    "version": 2
   },
   "file_extension": ".py",
   "mimetype": "text/x-python",
   "name": "python",
   "nbconvert_exporter": "python",
   "pygments_lexer": "ipython2",
   "version": "2.7.14"
  }
 },
 "nbformat": 4,
 "nbformat_minor": 2
}
