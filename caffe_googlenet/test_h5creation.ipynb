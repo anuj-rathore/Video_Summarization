{
 "cells": [
  {
   "cell_type": "code",
   "execution_count": 28,
   "metadata": {},
   "outputs": [
    {
     "name": "stdout",
     "output_type": "stream",
     "text": [
      "/scratch/anuj.rathore/Alin/Alin_Day1_008.avi 8074\n",
      "/scratch/anuj.rathore/Alin/Alin_Day1_011.avi 6312\n",
      "/scratch/anuj.rathore/Alin/Alin_Day1_001.avi 7819\n",
      "/scratch/anuj.rathore/Alin/Alin_Day1_003.avi 4994\n",
      "/scratch/anuj.rathore/Alin/Alin_Day1_007.avi 128\n",
      "/scratch/anuj.rathore/Alin/Alin_Day1_004.avi 8892\n",
      "/scratch/anuj.rathore/Alin/Alin_Day1_009.avi 7791\n",
      "/scratch/anuj.rathore/Alin/Alin_Day1_002.avi 7804\n",
      "/scratch/anuj.rathore/Alin/Alin_Day1_013.avi 5345\n",
      "/scratch/anuj.rathore/Alin/Alin_Day1_010.avi 2301\n",
      "/scratch/anuj.rathore/Alin/Alin_Day1_006.avi 7759\n",
      "/scratch/anuj.rathore/Alin/Alin_Day1_005.avi 1345\n",
      "/scratch/anuj.rathore/Alin/Alin_Day1_012.avi 7804\n"
     ]
    }
   ],
   "source": [
    "#meta_data from video from which we want to create h5files\n",
    "import os\n",
    "import cv2\n",
    "\n",
    "video_paths = \"/scratch/anuj.rathore/Alin/\"\n",
    "video_names = []\n",
    "vid_length = []\n",
    "for vid in os.listdir(video_paths):\n",
    "    if vid[-3:] == 'avi':\n",
    "        video_names.append(vid)\n",
    "        print video_paths + vid,\n",
    "        cap = cv2.VideoCapture(video_paths+ vid)\n",
    "        length = int(cap.get(cv2.CAP_PROP_FRAME_COUNT))\n",
    "        vid_length.append(length/4)\n",
    "        print length/4"
   ]
  },
  {
   "cell_type": "code",
   "execution_count": 29,
   "metadata": {},
   "outputs": [],
   "source": [
    "#create h5files"
   ]
  },
  {
   "cell_type": "code",
   "execution_count": null,
   "metadata": {},
   "outputs": [],
   "source": [
    "import h5py\n",
    "import os\n",
    "os.system(\"rm -rf test_features.h5\")\n",
    "h5_file_name = 'test_features.h5'\n",
    "f = h5py.File(h5_file_name, 'w')\n",
    "\n",
    "# video_names is a list of strings containing the \n",
    "# name of a video, e.g. 'video_1', 'video_2'\n",
    "co = 0\n",
    "for vid in video_names:\n",
    "    f.create_dataset(vid + '/change_points', (vid_length[co]/15,2), dtype='i')\n",
    "    f.create_dataset(vid + '/n_frame_per_seg', (vid_length[co]/15,), dtype='i')\n",
    "    f.create_dataset(vid + '/n_frames', (), dtype='i')\n",
    "    f.create_dataset(vid + '/n_steps', (), dtype='i')\n",
    "    f.create_dataset(vid + '/picks', (vid_length[co]/15,), dtype='i')\n",
    "    \n",
    "    for i in range(vid_length[co]/15):\n",
    "        f[vid]['change_points'][i] = [i*15, (i+1)*15 -1]\n",
    "        f[vid]['n_frame_per_seg'][i] = 15\n",
    "        f[vid]['picks'][i] = i*15\n",
    "        \n",
    "    f[vid]['n_frames'][...] = vid_length[co]\n",
    "    f[vid]['n_steps'][...] = vid_length[co] \n",
    "    co +=1\n",
    "    \n",
    "#     f.create_dataset(name + '/', (,4))\n",
    "#     f.create_dataset(name + '/gtscore', data=data_of_name)\n",
    "#     f.create_dataset(name + '/user_summary', data=data_of_name)\n",
    "#     f.create_dataset(name + '/change_points', data=data_of_name)\n",
    "#     f.create_dataset(name + '/n_frame_per_seg', data=data_of_name)\n",
    "#     f.create_dataset(name + '/n_frames', data=data_of_name)\n",
    "#     f.create_dataset(name + '/picks', data=data_of_name)\n",
    "#     f.create_dataset(name + '/n_steps', data=data_of_name)\n",
    "#     f.create_dataset(name + '/gtsummary', data=data_of_name)\n",
    "#     f.create_dataset(name + '/video_name', data=data_of_name)\n"
   ]
  },
  {
   "cell_type": "code",
   "execution_count": null,
   "metadata": {},
   "outputs": [],
   "source": [
    "\n",
    "\n",
    "\n",
    "\n",
    "f.close()"
   ]
  },
  {
   "cell_type": "code",
   "execution_count": null,
   "metadata": {},
   "outputs": [],
   "source": [
    "dataset= h5py.File('test_features.h5', 'r')\n",
    "dataset['Alin_Day1_008.avi']['change_points'][...]"
   ]
  },
  {
   "cell_type": "code",
   "execution_count": 67,
   "metadata": {},
   "outputs": [],
   "source": [
    "dat"
   ]
  },
  {
   "cell_type": "code",
   "execution_count": 84,
   "metadata": {},
   "outputs": [
    {
     "data": {
      "text/plain": [
       "8070"
      ]
     },
     "execution_count": 84,
     "metadata": {},
     "output_type": "execute_result"
    }
   ],
   "source": [
    "538 * 15"
   ]
  },
  {
   "cell_type": "code",
   "execution_count": 72,
   "metadata": {},
   "outputs": [
    {
     "data": {
      "text/plain": [
       "'1313'"
      ]
     },
     "execution_count": 72,
     "metadata": {},
     "output_type": "execute_result"
    }
   ],
   "source": [
    "a[0]*2\n"
   ]
  },
  {
   "cell_type": "code",
   "execution_count": null,
   "metadata": {},
   "outputs": [],
   "source": []
  }
 ],
 "metadata": {
  "kernelspec": {
   "display_name": "Python 2",
   "language": "python",
   "name": "python2"
  },
  "language_info": {
   "codemirror_mode": {
    "name": "ipython",
    "version": 2
   },
   "file_extension": ".py",
   "mimetype": "text/x-python",
   "name": "python",
   "nbconvert_exporter": "python",
   "pygments_lexer": "ipython2",
   "version": "2.7.14"
  }
 },
 "nbformat": 4,
 "nbformat_minor": 2
}
