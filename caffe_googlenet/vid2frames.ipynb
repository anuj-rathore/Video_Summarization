{
 "cells": [
  {
   "cell_type": "code",
   "execution_count": null,
   "metadata": {},
   "outputs": [],
   "source": [
    "import cv2\n",
    "import os\n",
    "# frame_path = \"/scratch/anuj.rathore/frames/\"\n",
    "# video_path = '/scratch/anuj.rathore/Alin/'\n",
    "files = os.listdir(video_path)\n",
    "video_files= []\n",
    "for i in files:\n",
    "    if i[-3:] == \"avi\":\n",
    "        video_files.append(i)\n",
    "\n",
    "for i in video_files:\n",
    "    vidcap = cv2.VideoCapture(video_path + i)\n",
    "    success,image = vidcap.read()\n",
    "    count = 0\n",
    "    os.system(\"mkdir \" + frame_path+i[:-4])\n",
    "    success = True\n",
    "    while success:\n",
    "        success,image = vidcap.read()\n",
    "        cv2.imwrite(frame_path + i[:-4] +\"/frame%d.jpg\" % count, image)     # save frame as JPEG file\n",
    "        count += 1\n",
    "        if count % 1000 == 0:\n",
    "            print('Read {} frames from {}'.format(count,i))\n",
    "    "
   ]
  },
  {
   "cell_type": "code",
   "execution_count": null,
   "metadata": {},
   "outputs": [],
   "source": []
  }
 ],
 "metadata": {
  "kernelspec": {
   "display_name": "Python 2",
   "language": "python",
   "name": "python2"
  },
  "language_info": {
   "codemirror_mode": {
    "name": "ipython",
    "version": 2
   },
   "file_extension": ".py",
   "mimetype": "text/x-python",
   "name": "python",
   "nbconvert_exporter": "python",
   "pygments_lexer": "ipython2",
   "version": "2.7.14"
  }
 },
 "nbformat": 4,
 "nbformat_minor": 2
}
