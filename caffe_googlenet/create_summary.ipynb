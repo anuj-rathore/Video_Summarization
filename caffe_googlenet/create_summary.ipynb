{
 "cells": [
  {
   "cell_type": "code",
   "execution_count": 7,
   "metadata": {},
   "outputs": [
    {
     "name": "stdout",
     "output_type": "stream",
     "text": [
      ". . . . . . . . . . . . . . . . . . . . . . . . . . . . . . . . . . . . . . . . . . . . . . . . . . . . . . . . . . . . 513\n"
     ]
    }
   ],
   "source": [
    "import cv2\n",
    "import os\n",
    "frames = []\n",
    "summary_file = \"./../vsumm-reinforce/Alin_summary_Day1_007\"\n",
    "input_video = \"/scratch/anuj.rathore/Alin/Alin_Day1_007.avi\"\n",
    "output_video =  \"/scratch/anuj.rathore/output7.avi\"\n",
    "fps = 15\n",
    "\n",
    "# standard frame module\n",
    "# with open(summary_file) as f:\n",
    "#     for line in f:\n",
    "#         frames.append(int(line))\n",
    "\n",
    "a = 1\n",
    "\n",
    "#module to add when using subsampling\n",
    "with open(summary_file) as f:\n",
    "    for line in f:\n",
    "        for i in range(4):\n",
    "            frames.append(int(line)*4 - i)\n",
    "            \n",
    "fourcc = cv2.VideoWriter_fourcc(*'MPEG')\n",
    "out = cv2.VideoWriter(output_video, fourcc, fps, (1280,720))\n",
    "if  a !=0:\n",
    "    vidcap = cv2.VideoCapture(input_video)\n",
    "    success,image = vidcap.read()\n",
    "    count = 1\n",
    "    act = 0\n",
    "    while success:\n",
    "        success,image = vidcap.read()\n",
    "        if count in frames:\n",
    "            act +=1\n",
    "            out.write(image)\n",
    "            print '.',\n",
    "        count += 1\n",
    "print count\n",
    "out.release()"
   ]
  },
  {
   "cell_type": "code",
   "execution_count": 8,
   "metadata": {},
   "outputs": [
    {
     "data": {
      "text/plain": [
       "15"
      ]
     },
     "execution_count": 8,
     "metadata": {},
     "output_type": "execute_result"
    }
   ],
   "source": [
    "int('4')*4 - 1"
   ]
  },
  {
   "cell_type": "code",
   "execution_count": 9,
   "metadata": {},
   "outputs": [
    {
     "data": {
      "text/plain": [
       "0"
      ]
     },
     "execution_count": 9,
     "metadata": {},
     "output_type": "execute_result"
    }
   ],
   "source": [
    "import os\n",
    "os.system(\"ls -l /scratch/anuj.rathore/\")"
   ]
  },
  {
   "cell_type": "code",
   "execution_count": null,
   "metadata": {},
   "outputs": [],
   "source": []
  }
 ],
 "metadata": {
  "kernelspec": {
   "display_name": "Python 2",
   "language": "python",
   "name": "python2"
  },
  "language_info": {
   "codemirror_mode": {
    "name": "ipython",
    "version": 2
   },
   "file_extension": ".py",
   "mimetype": "text/x-python",
   "name": "python",
   "nbconvert_exporter": "python",
   "pygments_lexer": "ipython2",
   "version": "2.7.14"
  }
 },
 "nbformat": 4,
 "nbformat_minor": 2
}
