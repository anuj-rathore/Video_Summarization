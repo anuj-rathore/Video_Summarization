{
 "cells": [
  {
   "cell_type": "code",
   "execution_count": 1,
   "metadata": {},
   "outputs": [],
   "source": [
    "import numpy as np\n",
    "import pickle\n",
    "import os\n",
    "import cv2\n",
    "\n",
    "import matplotlib.pyplot as plt\n",
    "import caffe"
   ]
  },
  {
   "cell_type": "code",
   "execution_count": 2,
   "metadata": {},
   "outputs": [],
   "source": [
    "gpu_id = 0\n",
    "\n",
    "extract_from_layer = \"pool5/7x7_s1\"\n",
    "input_images_file = \"./image_paths/\"\n",
    "model_def= \"./deploy.prototxt\"\n",
    "pretrained_model=\"./bvlc_googlenet.caffemodel\"\n",
    "\n",
    "# output file to write extracted features to disk\n",
    "output_pkl_file_name = \"./feat_cat.pkl\"\n",
    "\n",
    "# change based on your deploy.prototxt file\n",
    "batch_size = 1"
   ]
  },
  {
   "cell_type": "code",
   "execution_count": 3,
   "metadata": {},
   "outputs": [],
   "source": [
    "#% python\n",
    "\n",
    "# set gpu mode \n",
    "caffe.set_mode_gpu()\n",
    "caffe.set_device(gpu_id)"
   ]
  },
  {
   "cell_type": "code",
   "execution_count": 4,
   "metadata": {},
   "outputs": [],
   "source": [
    "net = caffe.Net(model_def, pretrained_model, caffe.TEST)"
   ]
  },
  {
   "cell_type": "code",
   "execution_count": null,
   "metadata": {},
   "outputs": [],
   "source": []
  },
  {
   "cell_type": "code",
   "execution_count": 11,
   "metadata": {},
   "outputs": [
    {
     "name": "stdout",
     "output_type": "stream",
     "text": [
      "\n"
     ]
    }
   ],
   "source": [
    "os.system(\"rm /scratch/anuj.rathore/features.h5\")\n",
    "import h5py\n",
    "import os\n",
    "h5_file_name = '/scratch/anuj.rathore/features.h5'\n",
    "f = h5py.File(h5_file_name, 'w')\n",
    "\n",
    "video_path = \"/scratch/anuj.rathore/Alin/\"\n",
    "\n",
    "files = os.listdir(video_path)\n",
    "video_files= []\n",
    "for i in files:\n",
    "    if i[-3:] == \"avi\":\n",
    "        video_files.append(i)\n",
    "        \n",
    "for vid in video_files:\n",
    "    f.create_dataset(vid + '/features', (10000,1024))"
   ]
  },
  {
   "cell_type": "code",
   "execution_count": 12,
   "metadata": {},
   "outputs": [
    {
     "name": "stdout",
     "output_type": "stream",
     "text": [
      "Alin_Day1_008.avi\n",
      "1000 2000 3000 4000 5000 6000 7000 8000 Alin_Day1_011.avi\n",
      "1000 2000 3000 4000 5000 6000 Alin_Day1_001.avi\n",
      "1000 2000 3000 4000 5000 6000 7000 Alin_Day1_003.avi\n",
      "1000 2000 3000 4000 Alin_Day1_007.avi\n",
      "Alin_Day1_004.avi\n",
      "1000 2000 3000 4000 5000 6000 7000 8000 Alin_Day1_009.avi\n",
      "1000 2000 3000 4000 5000 6000 7000 Alin_Day1_002.avi\n",
      "1000 2000 3000 4000 5000 6000 7000 Alin_Day1_013.avi\n",
      "1000 2000 3000 4000 5000 Alin_Day1_010.avi\n",
      "1000 2000 Alin_Day1_006.avi\n",
      "1000 2000 3000 4000 5000 6000 7000 Alin_Day1_005.avi\n",
      "1000 Alin_Day1_012.avi\n",
      "1000 2000 3000 4000 5000 6000 7000\n"
     ]
    }
   ],
   "source": [
    "flag = 0\n",
    "for vid in video_files:\n",
    "    co = 0\n",
    "    vidcap = cv2.VideoCapture('/scratch/anuj.rathore/Alin/' + vid)\n",
    "    success,image = vidcap.read()\n",
    "#     print success\n",
    "    frame_num = 0\n",
    "    print vid\n",
    "    progress_bar = 0\n",
    "    while success:\n",
    "#         plt.imshow(image)\n",
    "#         plt.show()\n",
    "#         print \"Hola\"\n",
    "        #Sampling every 4th frame\n",
    "        if frame_num%4 == 0:\n",
    "            img =  cv2.resize(image, (224, 224)) \n",
    "    #         plt.imshow(img)\n",
    "    #         plt.show()\n",
    "            img = np.array(img,dtype=float)\n",
    "            features = np.zeros(1024,)\n",
    "            img[:,:,[0,1,2]] = img[:, :, [2, 1, 0]] # swap channels\n",
    "            img = img.transpose((2, 0, 1)) # re-order dimensions\n",
    "\n",
    "            net.blobs['data'].reshape(1,3,224,224)\n",
    "            net.blobs['data'].data[...] = img\n",
    "            res = net.forward()\n",
    "\n",
    "            features = np.ndarray.flatten(net.blobs['pool5/7x7_s1'].data[0].copy())\n",
    "            f[vid]['features'][co] = features\n",
    "            co +=1\n",
    "            progress_bar +=1\n",
    "            if progress_bar  == 1000:\n",
    "                progress_bar = 0\n",
    "                print co,\n",
    "\n",
    "        success,image = vidcap.read()\n",
    "        frame_num +=1\n",
    "    vidcap.release()\n",
    "    \n",
    "f.close()"
   ]
  },
  {
   "cell_type": "code",
   "execution_count": 16,
   "metadata": {},
   "outputs": [],
   "source": [
    "f.close()"
   ]
  },
  {
   "cell_type": "code",
   "execution_count": 13,
   "metadata": {},
   "outputs": [
    {
     "data": {
      "text/plain": [
       "array([[0., 0., 0., ..., 0., 0., 0.],\n",
       "       [0., 0., 0., ..., 0., 0., 0.],\n",
       "       [0., 0., 0., ..., 0., 0., 0.],\n",
       "       ...,\n",
       "       [0., 0., 0., ..., 0., 0., 0.],\n",
       "       [0., 0., 0., ..., 0., 0., 0.],\n",
       "       [0., 0., 0., ..., 0., 0., 0.]], dtype=float32)"
      ]
     },
     "execution_count": 13,
     "metadata": {},
     "output_type": "execute_result"
    }
   ],
   "source": [
    "dataset = h5py.File('./features.h5', 'r')\n",
    "dataset['Alin_Day1_008.avi']['features'][0:10]"
   ]
  },
  {
   "cell_type": "code",
   "execution_count": 14,
   "metadata": {},
   "outputs": [
    {
     "data": {
      "text/plain": [
       "0"
      ]
     },
     "execution_count": 14,
     "metadata": {},
     "output_type": "execute_result"
    }
   ],
   "source": [
    "os.system(\"rm features.h5\")"
   ]
  },
  {
   "cell_type": "code",
   "execution_count": 17,
   "metadata": {},
   "outputs": [
    {
     "data": {
      "text/plain": [
       "256"
      ]
     },
     "execution_count": 17,
     "metadata": {},
     "output_type": "execute_result"
    }
   ],
   "source": [
    "import os\n",
    "os.system(\"pip install ffmpeg\")"
   ]
  },
  {
   "cell_type": "code",
   "execution_count": 16,
   "metadata": {},
   "outputs": [
    {
     "data": {
      "text/plain": [
       "34"
      ]
     },
     "execution_count": 16,
     "metadata": {},
     "output_type": "execute_result"
    }
   ],
   "source": [
    "512/15\n"
   ]
  },
  {
   "cell_type": "code",
   "execution_count": null,
   "metadata": {},
   "outputs": [],
   "source": []
  }
 ],
 "metadata": {
  "kernelspec": {
   "display_name": "Python 2",
   "language": "python",
   "name": "python2"
  },
  "language_info": {
   "codemirror_mode": {
    "name": "ipython",
    "version": 2
   },
   "file_extension": ".py",
   "mimetype": "text/x-python",
   "name": "python",
   "nbconvert_exporter": "python",
   "pygments_lexer": "ipython2",
   "version": "2.7.14"
  }
 },
 "nbformat": 4,
 "nbformat_minor": 2
}
